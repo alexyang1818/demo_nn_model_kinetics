{
 "cells": [
  {
   "cell_type": "code",
   "execution_count": 26,
   "id": "2a6cf811",
   "metadata": {
    "scrolled": true
   },
   "outputs": [],
   "source": [
    "# Modules\n",
    "#------------------------------------------------------------------------------\n",
    "\n",
    "import numpy as np\n",
    "import matplotlib.pyplot as py\n",
    "from scipy.integrate import odeint\n",
    "import pandas as pd\n",
    "\n",
    "# from scipy.integrate import solve_ivp\n",
    "# from scipy.special import gamma, airy"
   ]
  },
  {
   "cell_type": "code",
   "execution_count": 79,
   "id": "a53a6369",
   "metadata": {},
   "outputs": [
    {
     "name": "stdout",
     "output_type": "stream",
     "text": [
      "Index(['A', 'B', 'C', 'D', 'E'], dtype='object')\n",
      "(120000, 5)\n",
      "(120000, 5)\n"
     ]
    }
   ],
   "source": [
    "dt = 1                           # time step, delta t\n",
    "tmax = 25                             # max time, s\n",
    "t = np.linspace(0, tmax, num=int(tmax/dt)) # time vector\n",
    "\n",
    "\n",
    "columns = ['A', 'B', 'C', 'D', 'E']\n",
    "X = pd.DataFrame(columns=columns)\n",
    "Y = pd.DataFrame(columns=columns)\n",
    "\n",
    "def rates(c, t):\n",
    "    \"\"\"\n",
    "    w = wood-oil as conc[0]\n",
    "    nv = non-volatiles as conc[1]\n",
    "    v = volatiles as conc[2]\n",
    "    \"\"\"\n",
    "    K1 = 0.8\n",
    "    K2 = 0.1\n",
    "    K3 = 0.01\n",
    "    K4 = 0.01\n",
    "    r0 = -K1 * c[0]\n",
    "    r1 = K1 * c[0] - K2 * c[1] - K3 * c[1]\n",
    "    r2 = K2 * c[1] - K4 * c[2]\n",
    "    r3 = K3 * c[1]\n",
    "    r4 = K4 * c[2]\n",
    "    return [r0, r1, r2, r3, r4]\n",
    "\n",
    "\n",
    "for i in range(5000):\n",
    "    ini_A = np.random.uniform(0.5, 1)\n",
    "    ini_B = np.random.uniform(0, 0.5)\n",
    "    ini_C = np.random.uniform(0, 0.5)\n",
    "    ini_D = np.random.uniform(0, 0.1)\n",
    "    ini_E = np.random.uniform(0, 0.1)\n",
    "    \n",
    "    cc = odeint(rates, [ini_A, ini_B, ini_C, ini_D, ini_E], t)\n",
    "#     print(cc[0, :])\n",
    "\n",
    "    pseudo_rate = np.zeros([cc.shape[0]-1, cc.shape[1]])\n",
    "\n",
    "    for i in range(cc.shape[0]-1):\n",
    "        pseudo_rate[i, :] = cc[i+1, :] - cc[i, :] \n",
    "\n",
    "    X = X.append(pd.DataFrame(cc[:-1, :], columns=columns), ignore_index=True)\n",
    "    Y = Y.append(pd.DataFrame(pseudo_rate, columns=columns), ignore_index=True)\n",
    "\n",
    "X.to_csv('X.csv')\n",
    "Y.to_csv('Y.csv')\n",
    "\n",
    "print(X.columns)\n",
    "print(X.shape)\n",
    "print(Y.shape)"
   ]
  },
  {
   "cell_type": "code",
   "execution_count": null,
   "id": "63fbb643",
   "metadata": {},
   "outputs": [],
   "source": []
  }
 ],
 "metadata": {
  "kernelspec": {
   "display_name": "Python 3 (ipykernel)",
   "language": "python",
   "name": "python3"
  },
  "language_info": {
   "codemirror_mode": {
    "name": "ipython",
    "version": 3
   },
   "file_extension": ".py",
   "mimetype": "text/x-python",
   "name": "python",
   "nbconvert_exporter": "python",
   "pygments_lexer": "ipython3",
   "version": "3.8.12"
  }
 },
 "nbformat": 4,
 "nbformat_minor": 5
}
